{
 "cells": [
  {
   "cell_type": "code",
   "execution_count": 4,
   "metadata": {},
   "outputs": [],
   "source": [
    "import os\n",
    "import numpy as np\n",
    "import pandas as pd\n",
    "import matplotlib.pyplot as plt\n",
    "from mpl_toolkits.mplot3d import Axes3D\n",
    "import seaborn as sns\n",
    "import cv2 as cv\n",
    "from scipy.spatial.transform import Rotation"
   ]
  },
  {
   "cell_type": "code",
   "execution_count": 11,
   "metadata": {},
   "outputs": [],
   "source": [
    "dataset_dir = \"/storage/local/lhao/junpeng/interiornet_dataset/\"\n",
    "dataset_list = [\"HD1\"]\n",
    "traj_list = [\"1\",\"3\",\"7\"]\n",
    "typ_list = [\"random\",\"original\"]\n",
    "outputs = ['cam0_pano', 'motion0', 'illumination0', 'cam0', 'depth0', 'normal0','cam0_fisheye', 'label0', 'albedo0']"
   ]
  },
  {
   "cell_type": "code",
   "execution_count": 14,
   "metadata": {},
   "outputs": [],
   "source": []
  },
  {
   "cell_type": "code",
   "execution_count": 23,
   "metadata": {},
   "outputs": [
    {
     "data": {
      "text/plain": [
       "'original_1_1'"
      ]
     },
     "execution_count": 23,
     "metadata": {},
     "output_type": "execute_result"
    }
   ],
   "source": [
    "# for dataset_id in dataset_list:\n",
    "#     scene_list = os.listdir(dataset_dir+dataset_id)\n",
    "#     for scene_id in scene_list:\n",
    "#         for traj_id in traj_list:\n",
    "#             print(os.listdir(dataset_dir+dataset_id+\"/\"+scene_id+\"/\"))\n",
    "trajname"
   ]
  },
  {
   "cell_type": "code",
   "execution_count": 35,
   "metadata": {},
   "outputs": [
    {
     "data": {
      "text/html": [
       "<div>\n",
       "<style scoped>\n",
       "    .dataframe tbody tr th:only-of-type {\n",
       "        vertical-align: middle;\n",
       "    }\n",
       "\n",
       "    .dataframe tbody tr th {\n",
       "        vertical-align: top;\n",
       "    }\n",
       "\n",
       "    .dataframe thead th {\n",
       "        text-align: right;\n",
       "    }\n",
       "</style>\n",
       "<table border=\"1\" class=\"dataframe\">\n",
       "  <thead>\n",
       "    <tr style=\"text-align: right;\">\n",
       "      <th></th>\n",
       "      <th>position.x [m]</th>\n",
       "      <th>position.y [m]</th>\n",
       "      <th>position.z [m]</th>\n",
       "      <th>quaternion.w []</th>\n",
       "      <th>quaternion.x []</th>\n",
       "      <th>quaternion.y []</th>\n",
       "      <th>quaternion.z []</th>\n",
       "    </tr>\n",
       "    <tr>\n",
       "      <th>#timestamp [ns]</th>\n",
       "      <th></th>\n",
       "      <th></th>\n",
       "      <th></th>\n",
       "      <th></th>\n",
       "      <th></th>\n",
       "      <th></th>\n",
       "      <th></th>\n",
       "    </tr>\n",
       "  </thead>\n",
       "  <tbody>\n",
       "    <tr>\n",
       "      <th>31666668</th>\n",
       "      <td>3.024368</td>\n",
       "      <td>-3.505326</td>\n",
       "      <td>1.690684</td>\n",
       "      <td>0.303029</td>\n",
       "      <td>0.207165</td>\n",
       "      <td>0.524970</td>\n",
       "      <td>0.767895</td>\n",
       "    </tr>\n",
       "    <tr>\n",
       "      <th>71666664</th>\n",
       "      <td>3.019397</td>\n",
       "      <td>-3.506053</td>\n",
       "      <td>1.704087</td>\n",
       "      <td>0.304009</td>\n",
       "      <td>0.206382</td>\n",
       "      <td>0.522380</td>\n",
       "      <td>0.769483</td>\n",
       "    </tr>\n",
       "    <tr>\n",
       "      <th>111666664</th>\n",
       "      <td>3.013958</td>\n",
       "      <td>-3.506834</td>\n",
       "      <td>1.720167</td>\n",
       "      <td>0.303542</td>\n",
       "      <td>0.204997</td>\n",
       "      <td>0.520776</td>\n",
       "      <td>0.771123</td>\n",
       "    </tr>\n",
       "    <tr>\n",
       "      <th>151666672</th>\n",
       "      <td>3.008409</td>\n",
       "      <td>-3.507590</td>\n",
       "      <td>1.738611</td>\n",
       "      <td>0.303609</td>\n",
       "      <td>0.204051</td>\n",
       "      <td>0.519149</td>\n",
       "      <td>0.772444</td>\n",
       "    </tr>\n",
       "    <tr>\n",
       "      <th>191666672</th>\n",
       "      <td>3.003096</td>\n",
       "      <td>-3.508242</td>\n",
       "      <td>1.759071</td>\n",
       "      <td>0.302220</td>\n",
       "      <td>0.203672</td>\n",
       "      <td>0.520423</td>\n",
       "      <td>0.772231</td>\n",
       "    </tr>\n",
       "  </tbody>\n",
       "</table>\n",
       "</div>"
      ],
      "text/plain": [
       "                  position.x [m]   position.y [m]   position.z [m]  \\\n",
       "#timestamp [ns]                                                      \n",
       "31666668                3.024368        -3.505326         1.690684   \n",
       "71666664                3.019397        -3.506053         1.704087   \n",
       "111666664               3.013958        -3.506834         1.720167   \n",
       "151666672               3.008409        -3.507590         1.738611   \n",
       "191666672               3.003096        -3.508242         1.759071   \n",
       "\n",
       "                  quaternion.w []   quaternion.x []   quaternion.y []  \\\n",
       "#timestamp [ns]                                                         \n",
       "31666668                 0.303029          0.207165          0.524970   \n",
       "71666664                 0.304009          0.206382          0.522380   \n",
       "111666664                0.303542          0.204997          0.520776   \n",
       "151666672                0.303609          0.204051          0.519149   \n",
       "191666672                0.302220          0.203672          0.520423   \n",
       "\n",
       "                  quaternion.z []  \n",
       "#timestamp [ns]                    \n",
       "31666668                 0.767895  \n",
       "71666664                 0.769483  \n",
       "111666664                0.771123  \n",
       "151666672                0.772444  \n",
       "191666672                0.772231  "
      ]
     },
     "execution_count": 35,
     "metadata": {},
     "output_type": "execute_result"
    }
   ],
   "source": [
    "# get the list of all things inside this sequence\n",
    "dataset_id = \"HD1\"\n",
    "scene_id = \"3FO4JXILITSO\"\n",
    "traj = \"1\"\n",
    "typ = \"original\"\n",
    "dict([])\n",
    "def get_trajname(traj,typ):\n",
    "    return typ+\"_\"+str(traj)+\"_\"+str(traj)\n",
    "def get_gtname(traj):\n",
    "    return \"velocity_angular\"+\"_\"+str(traj)+\"_\"+str(traj)\n",
    "trajname = get_trajname(traj,typ)\n",
    "gtname = get_gtname(traj)\n",
    "path = dataset_dir+dataset_id+\"/\"+scene_id+\"/\"+trajname\n",
    "gt_path = dataset_dir+\"GroundTruth_HD1-HD6/\"+scene_id+\"/\"+gtname\n",
    "raw_data = pd.read_csv(gt_path+\"/cam0_gt.visim\")\n",
    "\n",
    "raw_data = raw_data.set_index(\"#timestamp [ns]\")\n",
    "raw_data.head(5)"
   ]
  },
  {
   "cell_type": "code",
   "execution_count": null,
   "metadata": {},
   "outputs": [],
   "source": []
  },
  {
   "cell_type": "code",
   "execution_count": null,
   "metadata": {},
   "outputs": [],
   "source": [
    "class InteriornetList:\n",
    "    \n",
    "    def __init__(self,dataset_dir,dataset_id,scene_id,traj,typ):\n",
    "        self.dataset_dir = dataset_dir\n",
    "        self.dataset_id = dataset_id\n",
    "        self.scene_id = scene_id\n",
    "        self.traj = traj\n",
    "        self.typ = typ\n",
    "        def get_trajname(traj,typ):\n",
    "            return typ+\"_\"+str(traj)+\"_\"+str(traj)\n",
    "        def get_gtname(traj):\n",
    "            return \"velocity_angular\"+\"_\"+str(traj)+\"_\"+str(traj)\n",
    "        trajname = get_trajname(traj,typ)\n",
    "        gtname = get_gtname(traj,typ)\n",
    "        path = dataset_dir+dataset_id+\"/\"+scene_id+\"/\"+trajname\n",
    "        gt_path = dataset_dir+\"GroundTruth_HD1-HD6/\"+scene_id+\"/\"+gtname\n",
    "        raw_data = pd.read_csv(gt_path+\"/cam0_gt.visim\")\n",
    "        self.df = raw_data.set_index(\"#timestamp [ns]\")\n",
    "    \n",
    "    def __getitem__(self,index):\n",
    "        entry = self.data[index]\n",
    "        return {\n",
    "            'timestamp': self.df.index[index],\n",
    "            \n",
    "        }\n",
    "\n",
    "    def __len__(self):\n",
    "        return len(self.df.index)"
   ]
  }
 ],
 "metadata": {
  "kernelspec": {
   "display_name": "Python 3.8.10 ('PointAR-GvVbeqiY')",
   "language": "python",
   "name": "python3"
  },
  "language_info": {
   "codemirror_mode": {
    "name": "ipython",
    "version": 3
   },
   "file_extension": ".py",
   "mimetype": "text/x-python",
   "name": "python",
   "nbconvert_exporter": "python",
   "pygments_lexer": "ipython3",
   "version": "3.8.10"
  },
  "orig_nbformat": 4,
  "vscode": {
   "interpreter": {
    "hash": "cf9cf9f493602384a66e6552addcae1e0cc3caf715b35670fa38f75495202d94"
   }
  }
 },
 "nbformat": 4,
 "nbformat_minor": 2
}
